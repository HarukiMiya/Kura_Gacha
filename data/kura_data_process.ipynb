{
 "cells": [
  {
   "cell_type": "code",
   "execution_count": 1,
   "id": "21fe84ad",
   "metadata": {},
   "outputs": [],
   "source": [
    "from bs4 import BeautifulSoup\n",
    "import requests"
   ]
  },
  {
   "cell_type": "code",
   "execution_count": 2,
   "id": "087a7b10",
   "metadata": {},
   "outputs": [],
   "source": [
    "url = 'https://www.kurasushi.co.jp/menu/?area=area0'\n",
    "\n",
    "page = requests.get(url)\n",
    "\n",
    "soup = BeautifulSoup(page.text, 'html')"
   ]
  },
  {
   "cell_type": "code",
   "execution_count": 3,
   "id": "7597d1e7",
   "metadata": {},
   "outputs": [],
   "source": [
    "# print(soup)"
   ]
  },
  {
   "cell_type": "code",
   "execution_count": 4,
   "id": "75015dbf",
   "metadata": {},
   "outputs": [],
   "source": [
    "sect = soup.find_all('div', class_='section-body')\n",
    "# print(sect)"
   ]
  },
  {
   "cell_type": "code",
   "execution_count": 5,
   "id": "6b0bcb30",
   "metadata": {},
   "outputs": [],
   "source": [
    "nigiri = sect[1]\n",
    "# print(nigiri)"
   ]
  },
  {
   "cell_type": "code",
   "execution_count": 6,
   "id": "79921539",
   "metadata": {},
   "outputs": [],
   "source": [
    "nigiri_ikkan = sect[2]\n",
    "# print(nigiri_ikkan)"
   ]
  },
  {
   "cell_type": "code",
   "execution_count": 7,
   "id": "c102380c",
   "metadata": {},
   "outputs": [],
   "source": [
    "gunkan = sect[3]\n",
    "# print(gunkan)"
   ]
  },
  {
   "cell_type": "code",
   "execution_count": 8,
   "id": "45747453",
   "metadata": {},
   "outputs": [],
   "source": [
    "side_menu = sect[4]\n",
    "# print(side_menu)"
   ]
  },
  {
   "cell_type": "code",
   "execution_count": 9,
   "id": "cf8e59e5",
   "metadata": {},
   "outputs": [],
   "source": [
    "dessert = sect[5]\n",
    "# print(dessert)"
   ]
  },
  {
   "cell_type": "code",
   "execution_count": 10,
   "id": "b13e3bca",
   "metadata": {},
   "outputs": [
    {
     "name": "stdout",
     "output_type": "stream",
     "text": [
      "------------------------------------------------------------------------------------------------------------------------------\n",
      "title\n",
      "にぎり\n",
      "\n",
      "curr_items\n",
      "['ふり塩熟成まぐろ', '熟成漬けまぐろ', 'ねぎまぐろにぎり', '大盛り貝柱にぎり', 'ビントロ', 'ゆず塩かつおたたき', 'サーモン', 'えび', '生えび', '肉厚とろ〆さば', '真いわし', '大葉真いか', '真いか', 'やりいか', 'あなご', '赤貝', 'かれい昆布締め\\u3000えんがわ添え', 'たまご焼き', '旨だれ牛カルビ', 'イベリコ豚の大とろ', 'ハンバーグ', 'えびアボカド', 'サーモンマヨ', 'オニオンサーモン', 'はまち', 'あぶりえびマヨグラタン風', 'あぶりチーズ豚カルビ', 'あぶりえびチーズ', 'あぶりチーズサーモン', 'いか天にぎり', 'えび天にぎり', '大葉えんがわ（かれい）', 'えんがわ（かれい）', '生たこ', '生たこ', '大葉生たこ', '大葉生たこ', 'つぶ貝', '真たこ', 'あじ', '大切り\\u3000はまち', '炙りたてうなぎ', '熟成\\u3000真鯛', '熟成\\u3000ゆず漬け真鯛', 'あぶり焼きはらす', '大切りとろサーモン', 'あわびにぎり']\n",
      "\n",
      "price & cals\n",
      "[['115', '82'], ['115', '85'], ['115', '99'], ['115', '79'], ['115', '83'], ['115', '89'], ['115', '93'], ['115', '74'], ['115', '78'], ['115', '151'], ['115', '108'], ['115', '75'], ['115', '75'], ['115', '73'], ['115', '94'], ['115', '68'], ['115', '84'], ['115', '114'], ['115', '109'], ['115', '115'], ['115', '111'], ['120', '118'], ['120', '115'], ['130', '116'], ['130', '118'], ['140', '186'], ['140', '146'], ['140', '97'], ['140', '120'], ['140', '201'], ['140', '135'], ['165', '94'], ['165', '94'], ['165', '71'], ['165', '71'], ['165', '71'], ['165', '71'], ['165', '69'], ['180', '76'], ['180', '85'], ['180', '127'], ['180', '115'], ['230', '88'], ['230', '91'], ['230', '170'], ['230', '139'], ['230', '78']]\n",
      "\n",
      "is_alco\n",
      "[False, False, False, False, False, False, False, False, False, False, False, False, False, False, False, False, False, False, False, False, False, False, False, False, False, False, False, False, False, False, False, False, False, False, False, False, False, False, False, False, False, False, False, False, False, False, False]\n",
      "\n",
      "len(items) 47 , len(pr_cals) 47 , len(is_alcos) 47\n",
      "------------------------------------------------------------------------------------------------------------------------------\n",
      "title\n",
      "にぎり一貫\n",
      "\n",
      "curr_items\n",
      "['熟成ふぐ（一貫）', 'ふり塩熟成大ばちまぐろ（一貫）', '熟成漬け大ばちまぐろ（一貫）', '大切りとろサーモン（一貫）', '大切り焼きはらす（一貫）', '赤えび（一貫）', '赤えび ゆず塩（一貫）', 'ふり塩熟成中とろ（一貫）', '熟成\\u3000あぶり中とろ（一貫）', '特大切り\\u3000活〆穴子（一貫）', '特大切りうなぎ（一貫）', '国産 肉厚ほたて(一貫)', 'ふり塩熟成大とろ(一貫)', '長崎和牛にぎり（一貫）']\n",
      "\n",
      "price & cals\n",
      "[['115', '39'], ['115', '44'], ['115', '47'], ['115', '70'], ['115', '85'], ['165', '46'], ['165', '46'], ['180', '72'], ['180', '72'], ['230', '64'], ['230', '109'], ['280', '51'], ['345', '77'], ['345', '65']]\n",
      "\n",
      "is_alco\n",
      "[False, False, False, False, False, False, False, False, False, False, False, False, False, False]\n",
      "\n",
      "len(items) 14 , len(pr_cals) 14 , len(is_alcos) 14\n",
      "------------------------------------------------------------------------------------------------------------------------------\n",
      "title\n",
      "ぐんかん・細巻\n",
      "\n",
      "curr_items\n",
      "['たらマヨ', 'まぐたく', '明太とろろ', '牛すき焼き風', '数の子松前漬け', 'あん肝', 'チャンジャ', '旨だれまぐろ', '明太小柱', 'まぐろ納豆', '山かけまぐろ', '納豆とろろ', 'いかおくら', 'ねぎまぐろ', 'コーン', 'まぐろユッケ', '納豆', 'えびマヨ', 'サラダ', 'ツナサラダ', 'シーフードサラダ', '納豆巻', 'きゅうり巻', 'しんこ巻', 'ねぎまぐろ鉄火', 'かんぴょう巻', 'いなり', 'かにマヨ', 'かにみそ', 'たら白子ジュレポン酢', 'えび天手巻き（一貫）', 'かにユッケ', '味付いくら', '鉄火巻', '海鮮うに手巻き（一貫）', 'まぐろ軍艦三種盛り', '大粒いくら（一貫）']\n",
      "\n",
      "price & cals\n",
      "[['115', '127'], ['115', '98'], ['115', '98'], ['115', '120'], ['115', '92'], ['115', '165'], ['115', '98'], ['115', '107'], ['115', '95'], ['115', '118'], ['115', '94'], ['115', '110'], ['115', '87'], ['115', '115'], ['115', '169'], ['115', '142'], ['115', '116'], ['115', '182'], ['115', '178'], ['115', '163'], ['115', '141'], ['115', '160'], ['115', '120'], ['115', '141'], ['115', '155'], ['115', '149'], ['115', '117'], ['130', '120'], ['130', '86'], ['165', '94'], ['165', '113'], ['180', '112'], ['180', '93'], ['180', '136'], ['180', '47'], ['180', '138'], ['190', '55']]\n",
      "\n",
      "is_alco\n",
      "[False, False, False, False, False, False, False, False, False, False, False, False, False, False, False, False, False, False, False, False, False, False, False, False, False, False, False, False, False, False, False, False, False, False, False, False, False]\n",
      "\n",
      "len(items) 37 , len(pr_cals) 37 , len(is_alcos) 37\n",
      "------------------------------------------------------------------------------------------------------------------------------\n",
      "title\n",
      "サイドメニュー\n",
      "\n",
      "curr_items\n",
      "['ビッくらポン！ にぎりセット', 'ビッくらポン！ 軍艦セット', 'ビッくらポン！厳選6貫セット', '大粒いくらのミニどんぶり', '旬の海鮮丼\\u3000平日限定17時まで', 'えび天と季節の天丼\\u3000平日限定17時まで', 'うな丼\\u3000平日限定17時まで', '特上うな丼\\u3000平日限定17時まで', '北海道名産\\u3000味噌バターコーンらーめん（関西）', '北海道名産\\u3000味噌バターコーンらーめん（関東）', '7種の魚介追いかつお醤油らーめん（関西）', '7種の魚介追いかつお醤油らーめん（関東）', '7種の魚介 濃厚味噌らーめん（関西）', '7種の魚介 濃厚味噌らーめん（関東）', '胡麻香る担々麺', '天然だしうどん（平日限定）', 'きつねうどん', 'えび天うどん', 'かにあんかけうどん', '純味噌汁', '純赤だし', 'あさり入り 味噌汁', 'あさり入り 赤だし', 'あおさ入り 味噌汁', 'あおさ入り 赤だし', '本ズワイガニ茶碗蒸し', '特製茶碗蒸し', 'くら出汁', 'えびブロッコリーサラダ', 'フライドチキン', 'くらポテト', 'くらポテト（チーズ）', '揚げ餃子', 'くらチキ', 'オニオンリング', '特製チャーシューコロッケ', 'とうもろこしのかき揚げ', 'ミニころチキン', 'オリオンドラフト＜生ビール＞', '生ビール', '瓶ビール', 'ドライゼロα（ノンアルコールビ ール）', '冷酒無添蔵', 'ハイボール', 'ペールエール（クラフトビール）']\n",
      "\n",
      "price & cals\n",
      "[['690', '488'], ['690', '833'], ['690', '263'], ['980', '299'], ['600', '462'], ['600', '692'], ['750', '611'], ['1350', '846'], ['490', '470'], ['490', '470'], ['490', '286'], ['460', '261'], ['490', '285'], ['460', '260'], ['490', '423'], ['200', '227'], ['430', '292'], ['430', '274'], ['490', '237'], ['190', '32'], ['190', '43'], ['240', '42'], ['240', '52'], ['210', '51'], ['210', '62'], ['330', '72'], ['225', '67'], ['150', '20'], ['200', '100'], ['400', '326'], ['420', '396'], ['420', '457'], ['280', '162'], ['280', '190'], ['150', '103'], ['150', '176'], ['150', '194'], ['150', '149'], ['600', '160'], ['600', '160'], ['650', '210'], ['420', '27'], ['630', '200'], ['450', '69'], ['660', '189']]\n",
      "\n",
      "is_alco\n",
      "[False, False, False, False, False, False, False, False, False, False, False, False, False, False, False, False, False, False, False, False, False, False, False, False, False, False, False, False, False, False, False, False, False, False, False, False, False, False, True, True, True, True, True, True, True]\n",
      "\n",
      "len(items) 45 , len(pr_cals) 45 , len(is_alcos) 45\n",
      "------------------------------------------------------------------------------------------------------------------------------\n",
      "title\n",
      "デザート\n",
      "\n",
      "curr_items\n",
      "['デコレーションスノー', '完熟マンゴー', '焼き芋天ハニーアイス', '冷んやりフルーツ盛り', 'ピスタチオムースケーキ', 'ミルキードーム', 'イタリアンティラミス', 'ミルキーミルクレープ', 'ミルクレープ', '至福のホッとぜんざい', '大学芋スティック', 'なめらかわらびもち', '北海道みるくシューアイス', '贅沢チョコシューアイス', 'チョコケーキ', 'チーズケーキ', '濃厚バニラアイス', 'チョコアイス', '豆乳アイス', '巨峰シャーベット', 'オレンジ・みかんジュース', 'りんごジュース', '宇治抹茶入り緑茶', '乳酸菌ウォーター', 'プレミアホット珈琲', 'プレミアアイス珈琲', 'プレミアホットラテ', 'プレミアアイスラテ']\n",
      "\n",
      "price & cals\n",
      "[['490', '267'], ['400', '85'], ['400', '286'], ['280', '79'], ['280', '126'], ['280', '134'], ['280', '97'], ['280', '272'], ['280', '230'], ['220', '226'], ['130', '138'], ['130', '89'], ['150', '104'], ['150', '152'], ['150', '107'], ['150', '81'], ['150', '77'], ['150', '41'], ['150', '108'], ['180', '51'], ['220', '79'], ['220', '80'], ['150', '3'], ['150', '76'], ['165', '28'], ['165', '36'], ['200', '83'], ['200', '92']]\n",
      "\n",
      "is_alco\n",
      "[False, False, False, False, False, False, False, False, False, False, False, False, False, False, False, False, False, False, False, False, False, False, False, False, False, False, False, False]\n",
      "\n",
      "len(items) 28 , len(pr_cals) 28 , len(is_alcos) 28\n",
      "\n",
      "----------------------------------------------------------------------------------------------------------------\n",
      "done for creating json data\n",
      "----------------------------------------------------------------------------------------------------------------\n",
      "\n"
     ]
    }
   ],
   "source": [
    "jdata = []\n",
    "for i in range(1,6):\n",
    "    titles = sect[i].find_all('h3', class_='menu-section-heading text-serif')\n",
    "    items = sect[i].find_all('h4', class_='menu-name')\n",
    "    prices = sect[i].find_all('ul', class_='menu-summary')\n",
    "    pr_cals = []\n",
    "    is_alcos = []\n",
    "    \n",
    "    curr_items = [item.text for item in items]\n",
    "    for item in items:\n",
    "        if \"ハイボール\" in item.text or \"酒\" in item.text or \"ビール\" in item.text or \"アルコール\" in item.text:\n",
    "            is_alcos.append(True)\n",
    "        else:\n",
    "            is_alcos.append(False)\n",
    "\n",
    "    for price in prices:\n",
    "        pr_cal = price.find_all('li')[0]\n",
    "        temp = []\n",
    "        for i, pr_cal in enumerate(pr_cal.find_all('p')):\n",
    "            pr_cal = pr_cal.text\n",
    "            if i == 0:\n",
    "                len_pr = len(pr_cal) - 1\n",
    "                temp.append(pr_cal[:len_pr])\n",
    "            else:\n",
    "                len_pr = len(pr_cal) - 4\n",
    "                temp.append(pr_cal[:len_pr])\n",
    "        pr_cals.append(temp)\n",
    "\n",
    "    print(\"------------------------------------------------------------------------------------------------------------------------------\")\n",
    "    print(\"title\")\n",
    "    print(titles[0].text)\n",
    "    print(\"\\ncurr_items\")\n",
    "    print(curr_items)\n",
    "    print(\"\\nprice & cals\")\n",
    "    print(pr_cals)\n",
    "    print(\"\\nis_alco\")\n",
    "    print(is_alcos)\n",
    "    print(\"\\nlen(items)\", len(items), \", len(pr_cals)\", len(pr_cals), \", len(is_alcos)\", len(is_alcos))    \n",
    "    \n",
    "    for i in range(len(curr_items)):\n",
    "        jdata.append({'item_name':curr_items[i], 'item_price': pr_cals[i][0], 'item_kcal':pr_cals[i][1], 'item_category': titles[0].text, 'is_alcohol': is_alcos[i]})\n",
    "\n",
    "print('\\n----------------------------------------------------------------------------------------------------------------')\n",
    "print(\"done for creating json data\")\n",
    "print('----------------------------------------------------------------------------------------------------------------\\n')\n",
    "# print(jdata)"
   ]
  },
  {
   "cell_type": "code",
   "execution_count": 11,
   "id": "14395cf3",
   "metadata": {},
   "outputs": [],
   "source": [
    "# import json\n",
    "# with open('data.json', 'w') as f:\n",
    "#     json.dump(jdata, f)"
   ]
  },
  {
   "cell_type": "code",
   "execution_count": null,
   "id": "2f5ede16",
   "metadata": {},
   "outputs": [],
   "source": []
  }
 ],
 "metadata": {
  "kernelspec": {
   "display_name": "Python 3 (ipykernel)",
   "language": "python",
   "name": "python3"
  },
  "language_info": {
   "codemirror_mode": {
    "name": "ipython",
    "version": 3
   },
   "file_extension": ".py",
   "mimetype": "text/x-python",
   "name": "python",
   "nbconvert_exporter": "python",
   "pygments_lexer": "ipython3",
   "version": "3.9.12"
  }
 },
 "nbformat": 4,
 "nbformat_minor": 5
}
